{
 "cells": [
  {
   "cell_type": "markdown",
   "metadata": {
    "deletable": true,
    "editable": true
   },
   "source": [
    "# PyMLP\n",
    "\n",
    "A scratch class-based implementation of a multilayer perceptron in Python, geared for MNIST.\n",
    "\n",
    "_April 16, 2017_\n",
    "\n",
    "---"
   ]
  },
  {
   "cell_type": "markdown",
   "metadata": {
    "deletable": true,
    "editable": true
   },
   "source": [
    "## Packages"
   ]
  },
  {
   "cell_type": "code",
   "execution_count": 1,
   "metadata": {
    "collapsed": true,
    "deletable": true,
    "editable": true
   },
   "outputs": [],
   "source": [
    "# 3rd party packages\n",
    "import numpy as np\n",
    "from matplotlib import pyplot as plt\n",
    "%matplotlib inline\n",
    "\n",
    "# My MNIST loader (pip install mnist_web)\n",
    "from mnist_web import mnist, render"
   ]
  },
  {
   "cell_type": "markdown",
   "metadata": {
    "deletable": true,
    "editable": true
   },
   "source": [
    "## Load MNIST"
   ]
  },
  {
   "cell_type": "code",
   "execution_count": 2,
   "metadata": {
    "collapsed": false,
    "deletable": true,
    "editable": true
   },
   "outputs": [],
   "source": [
    "def mnist_numpy(onehot_labels=False, flat_images=False):\n",
    "    \"\"\"Return train_images, train_labels, test_images, test_labels.\"\"\"\n",
    "    # Load MNIST\n",
    "    train_images, train_labels, test_images, test_labels = mnist()\n",
    "\n",
    "    if flat_images:\n",
    "        train_images = np.array([np.array(img).flatten() for img in train_images])\n",
    "        train_labels = np.array(train_labels)\n",
    "        test_images = np.array([np.array(img).flatten() for img in test_images])\n",
    "        test_labels = np.array(test_labels)\n",
    "    else:\n",
    "        train_images = np.array([np.array(img) for img in train_images])\n",
    "        train_labels = np.array(train_labels)\n",
    "        test_images = np.array([np.array(img) for img in test_images])\n",
    "        test_labels = np.array(test_labels)\n",
    "\n",
    "    if onehot_labels:\n",
    "        # Cast labels to one-hot vectors\n",
    "        def cast_to_one_hot(integers):\n",
    "            \"\"\"Return matrix whose rows are one-hot vectors for integers.\"\"\"\n",
    "            output = np.zeros((integers.size, integers.max() + 1))\n",
    "            output[np.arange(integers.size), integers] = 1\n",
    "            return output\n",
    "\n",
    "        train_labels = cast_to_one_hot(train_labels)\n",
    "        test_labels = cast_to_one_hot(test_labels)\n",
    "\n",
    "    return train_images, train_labels, test_images, test_labels"
   ]
  },
  {
   "cell_type": "code",
   "execution_count": 3,
   "metadata": {
    "collapsed": false,
    "deletable": true,
    "editable": true
   },
   "outputs": [],
   "source": [
    "train_images, train_labels, test_images, test_labels = mnist_numpy(onehot_labels=True, flat_images=True)"
   ]
  },
  {
   "cell_type": "markdown",
   "metadata": {
    "deletable": true,
    "editable": true
   },
   "source": [
    "# Activation functions"
   ]
  },
  {
   "cell_type": "code",
   "execution_count": 4,
   "metadata": {
    "collapsed": true,
    "deletable": true,
    "editable": true
   },
   "outputs": [],
   "source": [
    "def plot(function):\n",
    "    xs = np.arange(-5, 5, 0.01)\n",
    "    ys = [function(x) for x in xs]\n",
    "    dys = [function(x, deriv=True) for x in xs]\n",
    "\n",
    "    plt.plot(xs, ys)\n",
    "    plt.plot(xs, dys)\n",
    "    plt.grid(True)"
   ]
  },
  {
   "cell_type": "markdown",
   "metadata": {
    "deletable": true,
    "editable": true
   },
   "source": [
    "## Linear"
   ]
  },
  {
   "cell_type": "code",
   "execution_count": 5,
   "metadata": {
    "collapsed": true,
    "deletable": true,
    "editable": true
   },
   "outputs": [],
   "source": [
    "def linear(x, labels=None, deriv=False):\n",
    "    \"\"\"Linear layer.\"\"\"\n",
    "    if deriv:\n",
    "        return np.ones_like(x)\n",
    "    else:\n",
    "        return x"
   ]
  },
  {
   "cell_type": "code",
   "execution_count": 6,
   "metadata": {
    "collapsed": false,
    "deletable": true,
    "editable": true
   },
   "outputs": [
    {
     "data": {
      "image/png": "[encoded data removed]",
      "text/plain": [
       "<matplotlib.figure.Figure at 0x24ff8318fd0>"
      ]
     },
     "metadata": {},
     "output_type": "display_data"
    }
   ],
   "source": [
    "plt.title('Linear')\n",
    "plot(linear)"
   ]
  },
  {
   "cell_type": "markdown",
   "metadata": {
    "deletable": true,
    "editable": true
   },
   "source": [
    "## Sigmoid"
   ]
  },
  {
   "cell_type": "code",
   "execution_count": 7,
   "metadata": {
    "collapsed": true,
    "deletable": true,
    "editable": true
   },
   "outputs": [],
   "source": [
    "def sigmoid(x, labels=None, deriv=False):\n",
    "    \"\"\"Numerically-stable sigmoid.\"\"\"\n",
    "    if deriv:\n",
    "        z = sigmoid(x)\n",
    "        return z * (1 - z)\n",
    "    else:    \n",
    "        if np.all(x) >= 0:\n",
    "            z = np.exp(-x)\n",
    "            return 1 / (1 + z)\n",
    "        else:\n",
    "            z = np.exp(x)\n",
    "            return z / (1 + z)"
   ]
  },
  {
   "cell_type": "code",
   "execution_count": 8,
   "metadata": {
    "collapsed": false,
    "deletable": true,
    "editable": true
   },
   "outputs": [
    {
     "data": {
      "image/png": "[encoded data removed]",
      "text/plain": [
       "<matplotlib.figure.Figure at 0x24f84fe8e10>"
      ]
     },
     "metadata": {},
     "output_type": "display_data"
    }
   ],
   "source": [
    "plt.title('Sigmoid')\n",
    "plot(sigmoid)"
   ]
  },
  {
   "cell_type": "markdown",
   "metadata": {
    "deletable": true,
    "editable": true
   },
   "source": [
    "## Hyperbolic tangent"
   ]
  },
  {
   "cell_type": "code",
   "execution_count": 9,
   "metadata": {
    "collapsed": false,
    "deletable": true,
    "editable": true
   },
   "outputs": [],
   "source": [
    "def tanh(x, labels=None, deriv=False):\n",
    "    \"\"\"Hyperbolic tangent.\"\"\"\n",
    "    if deriv:\n",
    "        return 1 - np.tanh(x)**2\n",
    "    else:\n",
    "        return np.tanh(x)"
   ]
  },
  {
   "cell_type": "code",
   "execution_count": 10,
   "metadata": {
    "collapsed": false,
    "deletable": true,
    "editable": true
   },
   "outputs": [
    {
     "data": {
      "image/png": "[encoded data removed]",
      "text/plain": [
       "<matplotlib.figure.Figure at 0x24ff836feb8>"
      ]
     },
     "metadata": {},
     "output_type": "display_data"
    }
   ],
   "source": [
    "plt.title('Hyperbolic tangent')\n",
    "plot(tanh)"
   ]
  },
  {
   "cell_type": "markdown",
   "metadata": {
    "deletable": true,
    "editable": true
   },
   "source": [
    "## Rectified linear unit (ReLU)"
   ]
  },
  {
   "cell_type": "code",
   "execution_count": 11,
   "metadata": {
    "collapsed": true,
    "deletable": true,
    "editable": true
   },
   "outputs": [],
   "source": [
    "def relu(x, labels=None, deriv=False):\n",
    "    \"\"\"Rectified linear unit.\"\"\"\n",
    "    if deriv:\n",
    "        return (x > 0) * 1\n",
    "    else:\n",
    "        try:\n",
    "            return np.maximum(x, 0, x)\n",
    "        except TypeError:\n",
    "            \"\"\"When x is not iterable.\"\"\"\n",
    "            return np.maximum(x, 0)"
   ]
  },
  {
   "cell_type": "code",
   "execution_count": 12,
   "metadata": {
    "collapsed": false,
    "deletable": true,
    "editable": true
   },
   "outputs": [
    {
     "data": {
      "image/png": "[encoded data removed]",
      "text/plain": [
       "<matplotlib.figure.Figure at 0x24f819c9c50>"
      ]
     },
     "metadata": {},
     "output_type": "display_data"
    }
   ],
   "source": [
    "plt.title('Rectified linear unit')\n",
    "plot(relu)"
   ]
  },
  {
   "cell_type": "markdown",
   "metadata": {
    "deletable": true,
    "editable": true
   },
   "source": [
    "## Softmax\n",
    "\n",
    "---\n",
    "\n",
    "Softmax is a vector-to-vector transformation that turns an unnormalized vector\n",
    "\n",
    "$$x = \\begin{bmatrix} x_0,\\ x_1,\\ \\dots,\\ x_9 \\end{bmatrix}$$\n",
    "\n",
    "into a normalized vector\n",
    "\n",
    "$$s(x) = \\begin{bmatrix} s(x)_0,\\ s(x)_1,\\ \\dots,\\ s(x)_9 \\end{bmatrix}.$$\n",
    "\n",
    "The transformation is best described element-wise. So the $i$th output is given by\n",
    "\n",
    "$$ s(x)_i = \\frac{e^{x_i}}{\\sum_{j=0}^{9} e^{x_j}}. $$\n",
    "\n",
    "### Invariance to scaling\n",
    "Softmax is invariant to additively scaling every element of $x$ by the same constant $c$.\n",
    "\n",
    "*Proof:*\n",
    "\n",
    "\\begin{align*}\n",
    "s(x + c)_i &= \\frac{e^{x_i + c}}{\\sum_{j=0}^{9} e^{x_j + c}}  \\\\\n",
    "           &= \\frac{e^{x_i}e^c}{\\sum_{j=0}^{9} e^{x_j}e^c}    \\\\\n",
    "           &= \\frac{e^c e^{x_i}}{e^c \\sum_{j=0}^{9} e^{x_j}}   \\\\\n",
    "           &= \\frac{e^{x_i}}{\\sum_{j=0}^{9} e^{x_j}} = s(x)_i\n",
    "\\end{align*}\n",
    "\n",
    "That means we can protect softmax from numerical overflow by subtracting the maximum entry of $x$ from every element of $x$\n",
    "\n",
    "$$ s(x - \\max(x))_i = \\frac{e^{x_i - \\max(x)}}{\\sum_{j=0}^{9} e^{x_j - \\max(x)}} = \\frac{e^{x_i}}{\\sum_{j=0}^{9} e^{x_j}} = s(x)_i $$"
   ]
  },
  {
   "cell_type": "code",
   "execution_count": 13,
   "metadata": {
    "collapsed": false,
    "deletable": true,
    "editable": true
   },
   "outputs": [],
   "source": [
    "def softmax_matrix(matrix):\n",
    "    \"\"\"Return the row-wise softmax of matrix.\n",
    "\n",
    "    :type matrix: ndarray\n",
    "    :param matrix: unnormalized matrix with a row per example\n",
    "    \"\"\"\n",
    "    def softmax_vector(vector):\n",
    "        \"\"\"Return the softmax of vector.\n",
    "\n",
    "        :type vector: ndarray\n",
    "        :param vector: unnormalized vector\n",
    "        \"\"\"\n",
    "        row_sum = np.exp(vector).sum()\n",
    "        return np.array([np.exp(x_i) / row_sum for x_i in vector])\n",
    "\n",
    "    # Subtract the max of each row from each row (for stability)\n",
    "    row_maxes = np.max(matrix, axis=1)\n",
    "    row_maxes = row_maxes[:, np.newaxis]  # for broadcasting\n",
    "    matrix = matrix - row_maxes\n",
    "    \n",
    "    return np.array([softmax_vector(row) for row in matrix])"
   ]
  },
  {
   "cell_type": "markdown",
   "metadata": {
    "deletable": true,
    "editable": true
   },
   "source": [
    "### Check our softmax against TensorFlow's softmax"
   ]
  },
  {
   "cell_type": "code",
   "execution_count": 14,
   "metadata": {
    "collapsed": false,
    "deletable": true,
    "editable": true
   },
   "outputs": [
    {
     "name": "stdout",
     "output_type": "stream",
     "text": [
      "WARNING:tensorflow:From <ipython-input-14-3c597fe3eaa6>:6: initialize_all_variables (from tensorflow.python.ops.variables) is deprecated and will be removed after 2017-03-02.\n",
      "Instructions for updating:\n",
      "Use `tf.global_variables_initializer` instead.\n"
     ]
    },
    {
     "data": {
      "text/plain": [
       "array([[ 0.00626879,  0.01704033,  0.04632042,  0.93037045],\n",
       "       [ 0.01203764,  0.08894681,  0.24178252,  0.657233  ],\n",
       "       [ 0.00626879,  0.01704033,  0.04632042,  0.93037045]], dtype=float32)"
      ]
     },
     "execution_count": 14,
     "metadata": {},
     "output_type": "execute_result"
    }
   ],
   "source": [
    "import tensorflow as tf\n",
    "import numpy as np\n",
    "batch = np.asarray([[1,2,3,6],[2,4,5,6],[1,2,3,6]])\n",
    "x = tf.placeholder(tf.float32, shape=[None, 4])\n",
    "y = tf.nn.softmax(x)\n",
    "init = tf.initialize_all_variables()\n",
    "sess = tf.Session()\n",
    "sess.run(y, feed_dict={x: batch})"
   ]
  },
  {
   "cell_type": "code",
   "execution_count": 15,
   "metadata": {
    "collapsed": false,
    "deletable": true,
    "editable": true
   },
   "outputs": [
    {
     "data": {
      "text/plain": [
       "array([[ 0.00626879,  0.01704033,  0.04632042,  0.93037047],\n",
       "       [ 0.01203764,  0.08894682,  0.24178252,  0.65723302],\n",
       "       [ 0.00626879,  0.01704033,  0.04632042,  0.93037047]])"
      ]
     },
     "execution_count": 15,
     "metadata": {},
     "output_type": "execute_result"
    }
   ],
   "source": [
    "softmax_matrix(batch)"
   ]
  },
  {
   "cell_type": "markdown",
   "metadata": {
    "deletable": true,
    "editable": true
   },
   "source": [
    "## Derivative of Softmax\n",
    "\n",
    "---\n",
    "\n",
    "Since softmax is a vector-to-vector transformation, its derivative is a Jacobian matrix. The Jacobian has a row for each output element $s(x)_i$, and a column for each input element $x_j$. The entries of the Jacobian take two forms, one for the main diagonal entry, and one for every off-diagonal entry. Here we'll show how to compute row $i$ of the Jacobian, which is the gradient of output element $s(x)_i$ with respect to each of its input elements $x_j$. We first restate the input vector, output vector, and elementwise softmax formula for clarity.\n",
    "\n",
    "\\begin{align*}\n",
    "x &= \\begin{bmatrix} x_0,\\ x_1,\\ \\dots,\\ x_9 \\end{bmatrix} \\\\ \\\\\n",
    "s(x) &= \\begin{bmatrix} s(x)_0,\\ s(x)_1,\\ \\dots,\\ s(x)_9 \\end{bmatrix} \\\\ \\\\\n",
    "s(x)_i &= \\frac{e^{x_i}}{\\sum_{j=0}^{9} e^{x_j}} \\\\\n",
    "\\end{align*}\n",
    "\n",
    "First compute the diagonal entry of row $i$ of the Jacobian, that is, compute the derivative of the $i$'th output of softmax, $s(x)_i$, with respect to its $i$'th input, $x_i$:\n",
    "\n",
    "\\begin{align*}\n",
    "\\frac{\\partial s(x)_i}{\\partial x_{i}} &= \\frac{\\sum_{j=0}^{9} e^{x_j} e^{x_i} - e^{x_i} e^{x_i}}{(\\sum_{j=0}^{9} e^{x_j})^2} \\\\\n",
    "&= s(x)_i - s(x)_i^2 \\qquad \\text{diagonal entry} \\\\\n",
    "\\end{align*}\n",
    "\n",
    "Now compute every off-diagonal entry of row $i$ of the Jacobian, that is, compute the derivative of the $i$'th output of softmax, $s(x)_i$, with respect to its $j$'th input, $x_j$, where $j \\neq i$.\n",
    "\n",
    "\\begin{align*}\n",
    "\\frac{\\partial s(x)_i}{\\partial x_{j}} &= \\frac{\\sum_{j=0}^{9} e^{x_j} \\cdot 0 - e^{x_i} e^{x_j}}{(\\sum_{j=0}^{9} e^{x_j})^2} \\\\\n",
    "&= - s(x)_i s(x)_j \\qquad \\text{off-diagonal entry}\n",
    "\\end{align*}\n",
    "\n",
    "The form of the off-diagonals tells us that the Jacobian of softmax is a symmetric matrix. This is nice because symmetric matrices have great numeric and analytic properties. We expand it below. Each row is a gradient of one output element with respect to each of its input elements.\n",
    "\n",
    "\\begin{equation}\n",
    "J\\big(s(x)\\big) =\n",
    "\\begin{bmatrix}\n",
    "    \\nabla s(x)_0 \\\\\n",
    "    \\nabla s(x)_1 \\\\\n",
    "    \\nabla s(x)_2 \\\\\n",
    "    \\dots \\\\\n",
    "    \\nabla s(x)_9\n",
    "\\end{bmatrix}\n",
    "=\n",
    "\\begin{bmatrix}\n",
    "    s(x)_0 - s(x)_0^2 & -s(x)_0 s(x)_1 & -s(x)_0 s(x)_2 & \\dots  & -s(x)_0 s(x)_9 \\\\\n",
    "    -s(x)_1 s(x)_0 & s(x)_1 - s(x)_1^2 & -s(x)_1 s(x)_2 & \\dots  & -s(x)_1 s(x)_9 \\\\\n",
    "    -s(x)_2 s(x)_0 & -s(x)_2 s(x)_1    & s(x)_2 - s(x)_2^2 & \\dots & -s(x)_2 s(x)_9 \\\\\n",
    "    \\vdots & \\vdots & \\vdots & \\ddots & \\vdots \\\\\n",
    "    -s(x)_9 s(x)_0 & -s(x)_9 s(x)_1 & -s(x)_9 s(x)_2 & \\dots  & s(x)_9 - s(x)_9^2 \\\\\n",
    "\\end{bmatrix}\n",
    "\\end{equation}\n",
    "\n",
    "Notice that we can express this matrix as\n",
    "\n",
    "$$\\text{diag}\\big(s(x)\\big) - s(x)_{10 \\times 1}^\\top s(x)_{1 \\times 10}.$$\n",
    "\n",
    "The term on the right is the outer product since we're working with row vectors. We labeled the dimensions to be explicit."
   ]
  },
  {
   "cell_type": "code",
   "execution_count": 16,
   "metadata": {
    "collapsed": true,
    "deletable": true,
    "editable": true
   },
   "outputs": [],
   "source": [
    "def jacobian_tensor(softmaxed_matrix):\n",
    "    \"\"\"Return Jacobian tensor of a matrix whose rows are softmaxed.\n",
    "\n",
    "    :type softmax_matrix: ndarray\n",
    "    :param softmax_matrix: matrix whose rows are softmaxed\n",
    "    \"\"\"\n",
    "    def jacobian_matrix(softmaxed_vector):\n",
    "        \"\"\"Return Jacobian matrix of a softmax vector.\n",
    "\n",
    "        :type softmax_vector: ndarray\n",
    "        :param softmax_vector: softmax distribution over classes\n",
    "        \"\"\"\n",
    "        s = softmaxed_vector\n",
    "        return np.diag(s) - np.outer(s, s)\n",
    "\n",
    "    return np.array([jacobian_matrix(row) for row in softmaxed_matrix])"
   ]
  },
  {
   "cell_type": "code",
   "execution_count": 17,
   "metadata": {
    "collapsed": false,
    "deletable": true,
    "editable": true
   },
   "outputs": [
    {
     "data": {
      "text/plain": [
       "array([[1, 2, 3, 6],\n",
       "       [2, 4, 5, 6],\n",
       "       [1, 2, 3, 6]])"
      ]
     },
     "execution_count": 17,
     "metadata": {},
     "output_type": "execute_result"
    }
   ],
   "source": [
    "batch"
   ]
  },
  {
   "cell_type": "code",
   "execution_count": 18,
   "metadata": {
    "collapsed": false,
    "deletable": true,
    "editable": true
   },
   "outputs": [
    {
     "data": {
      "text/plain": [
       "array([[ 0.00626879,  0.01704033,  0.04632042,  0.93037047],\n",
       "       [ 0.01203764,  0.08894682,  0.24178252,  0.65723302],\n",
       "       [ 0.00626879,  0.01704033,  0.04632042,  0.93037047]])"
      ]
     },
     "execution_count": 18,
     "metadata": {},
     "output_type": "execute_result"
    }
   ],
   "source": [
    "softmax_matrix(batch)"
   ]
  },
  {
   "cell_type": "code",
   "execution_count": 19,
   "metadata": {
    "collapsed": false,
    "deletable": true,
    "editable": true
   },
   "outputs": [
    {
     "data": {
      "text/plain": [
       "array([[[  6.22948920e-03,  -1.06822194e-04,  -2.90372829e-04,\n",
       "          -5.83229418e-03],\n",
       "        [ -1.06822194e-04,   1.67499567e-02,  -7.89315184e-04,\n",
       "          -1.58538193e-02],\n",
       "        [ -2.90372829e-04,  -7.89315184e-04,   4.41748369e-02,\n",
       "          -4.30951488e-02],\n",
       "        [ -5.83229418e-03,  -1.58538193e-02,  -4.30951488e-02,\n",
       "           6.47812623e-02]],\n",
       "\n",
       "       [[  1.18927379e-02,  -1.07071001e-03,  -2.91049156e-03,\n",
       "          -7.91153631e-03],\n",
       "        [ -1.07071001e-03,   8.10352810e-02,  -2.15057854e-02,\n",
       "          -5.84587856e-02],\n",
       "        [ -2.91049156e-03,  -2.15057854e-02,   1.83323732e-01,\n",
       "          -1.58907455e-01],\n",
       "        [ -7.91153631e-03,  -5.84587856e-02,  -1.58907455e-01,\n",
       "           2.25277777e-01]],\n",
       "\n",
       "       [[  6.22948920e-03,  -1.06822194e-04,  -2.90372829e-04,\n",
       "          -5.83229418e-03],\n",
       "        [ -1.06822194e-04,   1.67499567e-02,  -7.89315184e-04,\n",
       "          -1.58538193e-02],\n",
       "        [ -2.90372829e-04,  -7.89315184e-04,   4.41748369e-02,\n",
       "          -4.30951488e-02],\n",
       "        [ -5.83229418e-03,  -1.58538193e-02,  -4.30951488e-02,\n",
       "           6.47812623e-02]]])"
      ]
     },
     "execution_count": 19,
     "metadata": {},
     "output_type": "execute_result"
    }
   ],
   "source": [
    "jacobian_tensor(softmax_matrix(batch))"
   ]
  },
  {
   "cell_type": "markdown",
   "metadata": {
    "deletable": true,
    "editable": true
   },
   "source": [
    "# Put softmax into one function"
   ]
  },
  {
   "cell_type": "code",
   "execution_count": 20,
   "metadata": {
    "collapsed": true,
    "deletable": true,
    "editable": true
   },
   "outputs": [],
   "source": [
    "def softmax(matrix, deriv=False):\n",
    "    \"\"\"Return the row-wise softmax matrix or Jacobian tensor of matrix.\n",
    "\n",
    "    :type matrix: ndarray\n",
    "    :param matrix: unnormalized matrix with a row per example\n",
    "    \"\"\"\n",
    "    # Allow passing arrays\n",
    "    if matrix.ndim == 1:\n",
    "        matrix = np.array([matrix])\n",
    "\n",
    "    if deriv:\n",
    "        return jacobian_tensor(softmax_matrix(matrix))\n",
    "    else:\n",
    "        return softmax_matrix(matrix)"
   ]
  },
  {
   "cell_type": "code",
   "execution_count": 21,
   "metadata": {
    "collapsed": false,
    "deletable": true,
    "editable": true
   },
   "outputs": [
    {
     "data": {
      "text/plain": [
       "array([[ 0.00626879,  0.01704033,  0.04632042,  0.93037047],\n",
       "       [ 0.01203764,  0.08894682,  0.24178252,  0.65723302],\n",
       "       [ 0.00626879,  0.01704033,  0.04632042,  0.93037047]])"
      ]
     },
     "execution_count": 21,
     "metadata": {},
     "output_type": "execute_result"
    }
   ],
   "source": [
    "softmax(batch)"
   ]
  },
  {
   "cell_type": "code",
   "execution_count": 22,
   "metadata": {
    "collapsed": false,
    "deletable": true,
    "editable": true
   },
   "outputs": [
    {
     "data": {
      "text/plain": [
       "array([[[  6.22948920e-03,  -1.06822194e-04,  -2.90372829e-04,\n",
       "          -5.83229418e-03],\n",
       "        [ -1.06822194e-04,   1.67499567e-02,  -7.89315184e-04,\n",
       "          -1.58538193e-02],\n",
       "        [ -2.90372829e-04,  -7.89315184e-04,   4.41748369e-02,\n",
       "          -4.30951488e-02],\n",
       "        [ -5.83229418e-03,  -1.58538193e-02,  -4.30951488e-02,\n",
       "           6.47812623e-02]],\n",
       "\n",
       "       [[  1.18927379e-02,  -1.07071001e-03,  -2.91049156e-03,\n",
       "          -7.91153631e-03],\n",
       "        [ -1.07071001e-03,   8.10352810e-02,  -2.15057854e-02,\n",
       "          -5.84587856e-02],\n",
       "        [ -2.91049156e-03,  -2.15057854e-02,   1.83323732e-01,\n",
       "          -1.58907455e-01],\n",
       "        [ -7.91153631e-03,  -5.84587856e-02,  -1.58907455e-01,\n",
       "           2.25277777e-01]],\n",
       "\n",
       "       [[  6.22948920e-03,  -1.06822194e-04,  -2.90372829e-04,\n",
       "          -5.83229418e-03],\n",
       "        [ -1.06822194e-04,   1.67499567e-02,  -7.89315184e-04,\n",
       "          -1.58538193e-02],\n",
       "        [ -2.90372829e-04,  -7.89315184e-04,   4.41748369e-02,\n",
       "          -4.30951488e-02],\n",
       "        [ -5.83229418e-03,  -1.58538193e-02,  -4.30951488e-02,\n",
       "           6.47812623e-02]]])"
      ]
     },
     "execution_count": 22,
     "metadata": {},
     "output_type": "execute_result"
    }
   ],
   "source": [
    "softmax(batch, deriv=True)"
   ]
  },
  {
   "cell_type": "markdown",
   "metadata": {
    "deletable": true,
    "editable": true
   },
   "source": [
    "## Information\n",
    "\n",
    "---\n",
    "\n",
    "The information conveyed about a distribution $P(x)$ by an observation $x$ is inversely proportional to the probability of that observation.\n",
    "\n",
    "$$ I_P(x) := \\frac{1}{P(x)}. $$\n",
    "\n",
    "**Problem:** We'd like the information from two independent observations to be additive. That is, if we observe $x$ and observe $y$, the information gained, $I(x, y)$, should equal $I(x) + I(y)$, but notice that\n",
    "$$ I_P(x) + I_P(y) = \\frac{1}{P(x)} + \\frac{1}{P(y)} \\neq \\frac{1}{P(x)P(y)} = I_P(x, y). $$\n",
    "\n",
    "\n",
    "**Solution:** Use logarithms in our definition, because they turn products into sums.\n",
    "\n",
    "$$ I_P(x) := \\log \\frac{1}{P(x)}. $$\n",
    "\n",
    "Then information is additive.\n",
    "\n",
    "$$ I_P(x) + I_P(y) = \\log \\frac{1}{P(x)} + \\log \\frac{1}{P(y)} = \\log \\frac{1}{P(x)P(y)} = \\log \\frac{1}{P(x, y)} = I_P(x, y) $$\n",
    "\n",
    "where we used (in order), the definition of information, the property of logarithms, and the fact that $x$ and $y$ were assumed to be independent."
   ]
  },
  {
   "cell_type": "markdown",
   "metadata": {
    "deletable": true,
    "editable": true
   },
   "source": [
    "## Entropy\n",
    "\n",
    "---\n",
    "\n",
    "The entropy of a discrete distribution $P$ is just the expected information of one observation, $x$, from that distribution\n",
    "\n",
    "$$ H(P) := \\mathbb{E}_{x \\sim P} I_P(x) = \\mathbb{E}_{x \\sim P} \\log \\frac{1}{P(x)} = -\\mathbb{E}_{x \\sim P} \\log P(x) = - \\sum_{x \\in \\text{dom} (P)} P(x) \\log P(x). $$"
   ]
  },
  {
   "cell_type": "markdown",
   "metadata": {
    "deletable": true,
    "editable": true
   },
   "source": [
    "## Cross-entropy\n",
    "\n",
    "---\n",
    "\n",
    "The cross-entropy between two discrete distributions $P$ and $Q$ is the expected information about $Q$ garnered from one observation, $x$, drawn from $P$.\n",
    "\n",
    "$$ H(P, Q) = - \\mathbb{E}_{x \\sim P} \\log Q(x) = - \\sum_{x \\in P} P(x) \\log Q(x). $$\n",
    "\n",
    "It's just the entropy of $Q$, but instead weighted by the probabilities of $P$."
   ]
  },
  {
   "cell_type": "markdown",
   "metadata": {
    "deletable": true,
    "editable": true
   },
   "source": [
    "## Cross-entropy as a cost\n",
    "\n",
    "---\n",
    "\n",
    "For classification, we have two discrete distributions. Our empirical distribution of correct class labels is given by a one-hot vector $y$ encoding the correct digit of the image. Our model distribution is given by our softmax vector $s(x)$ of class probabilities. We want to force our softmax distribution toward the true distribution (the one-hot vector y). We do this by minimizing the cross-entropy between the two.\n",
    "\n",
    "$$ H(y, s(x)) = - \\mathbb{E}_{y} \\log s(x) = - \\sum_{i=0}^{9} y_i \\log s(x)_i $$"
   ]
  },
  {
   "cell_type": "markdown",
   "metadata": {
    "deletable": true,
    "editable": true
   },
   "source": [
    "## Gradient of cross-entropy\n",
    "\n",
    "---\n",
    "\n",
    "Since $y$ is our given class label, it doesn't depend on the weights of our network. Therefore, we only need to consider the gradient with respect to $s(x)$, our vector of softmax probabilities. Since $H(y, s(x))$ is a vector-to-scalar function in terms of $s(x)$, we'll have a gradient:\n",
    "\n",
    "$$ \\nabla_{s(x)} H(y, s(x)) = \\left[\\frac{-y_0}{s(x)_0},\\ \\frac{-y_1}{s(x)_1},\\ \\dots,\\ \\frac{-y_9}{s(x)_9} \\right] $$"
   ]
  },
  {
   "cell_type": "code",
   "execution_count": 23,
   "metadata": {
    "collapsed": false,
    "deletable": true,
    "editable": true
   },
   "outputs": [],
   "source": [
    "def sum_cross_entropy(y_matrix, softmax_matrix, deriv=False):\n",
    "    \"\"\"Return sum of row-wise cross-entropies (scalar) or gradients (vector).\n",
    "\n",
    "    :type y_matrix: ndarray\n",
    "    :param y_matrix: rows are one-hot labels for examples in minibatch\n",
    "\n",
    "    :type softmax_matrix: ndarray\n",
    "    :param softmax_matrix: rows are distributions over class predictions\n",
    "    \"\"\"\n",
    "    def cross_entropy(y_vector, softmax_vector, deriv=False):\n",
    "        \"\"\"Return cross-entropy cost (scalar) or gradient (vector).\n",
    "\n",
    "        :type y_vector: ndarray\n",
    "        :param y_vector: one-hot vector indicating the class of an example\n",
    "\n",
    "        :type softmax_vector: ndarray\n",
    "        :param softmax_vector: distribution over class predictions for an example\n",
    "        \"\"\"\n",
    "        if deriv:\n",
    "            return np.array([-y_i / s_i for y_i, s_i\n",
    "                             in zip(y_vector, softmax_vector)])\n",
    "        else:\n",
    "            return -np.sum(y_vector * np.log(softmax_vector))   \n",
    "    if deriv:\n",
    "        gradients = [cross_entropy(y_row, s_row, deriv=True)\n",
    "                     for y_row, s_row in zip(y_matrix, softmax_matrix)]\n",
    "        return np.array(gradients).sum(axis=0)\n",
    "    else:\n",
    "        return sum([cross_entropy(y_row, s_row)\n",
    "                    for y_row, s_row in zip(y_matrix, softmax_matrix)])"
   ]
  },
  {
   "cell_type": "markdown",
   "metadata": {
    "deletable": true,
    "editable": true
   },
   "source": [
    "### Try cross-entropy on some toy data"
   ]
  },
  {
   "cell_type": "code",
   "execution_count": 24,
   "metadata": {
    "collapsed": false,
    "deletable": true,
    "editable": true
   },
   "outputs": [
    {
     "data": {
      "text/plain": [
       "array([[1, 2, 3, 6],\n",
       "       [2, 4, 5, 6],\n",
       "       [1, 2, 3, 6]])"
      ]
     },
     "execution_count": 24,
     "metadata": {},
     "output_type": "execute_result"
    }
   ],
   "source": [
    "batch"
   ]
  },
  {
   "cell_type": "code",
   "execution_count": 25,
   "metadata": {
    "collapsed": false,
    "deletable": true,
    "editable": true
   },
   "outputs": [
    {
     "data": {
      "text/plain": [
       "array([[ 0.00626879,  0.01704033,  0.04632042,  0.93037047],\n",
       "       [ 0.01203764,  0.08894682,  0.24178252,  0.65723302],\n",
       "       [ 0.00626879,  0.01704033,  0.04632042,  0.93037047]])"
      ]
     },
     "execution_count": 25,
     "metadata": {},
     "output_type": "execute_result"
    }
   ],
   "source": [
    "softmax(batch)"
   ]
  },
  {
   "cell_type": "markdown",
   "metadata": {
    "deletable": true,
    "editable": true
   },
   "source": [
    "### Labels that well-fit the softmax above"
   ]
  },
  {
   "cell_type": "code",
   "execution_count": 26,
   "metadata": {
    "collapsed": true,
    "deletable": true,
    "editable": true
   },
   "outputs": [],
   "source": [
    "y = np.array([[0, 0, 0, 1],\n",
    "              [0, 0, 0, 1],\n",
    "              [0, 0, 0, 1]])"
   ]
  },
  {
   "cell_type": "code",
   "execution_count": 27,
   "metadata": {
    "collapsed": false,
    "deletable": true,
    "editable": true
   },
   "outputs": [
    {
     "data": {
      "text/plain": [
       "0.5640614903019745"
      ]
     },
     "execution_count": 27,
     "metadata": {},
     "output_type": "execute_result"
    }
   ],
   "source": [
    "sum_cross_entropy(y, softmax(batch))"
   ]
  },
  {
   "cell_type": "code",
   "execution_count": 28,
   "metadata": {
    "collapsed": false,
    "deletable": true,
    "editable": true
   },
   "outputs": [
    {
     "data": {
      "text/plain": [
       "array([ 0.        ,  0.        ,  0.        , -3.67121167])"
      ]
     },
     "execution_count": 28,
     "metadata": {},
     "output_type": "execute_result"
    }
   ],
   "source": [
    "sum_cross_entropy(y, softmax(batch), deriv=True)"
   ]
  },
  {
   "cell_type": "markdown",
   "metadata": {
    "deletable": true,
    "editable": true
   },
   "source": [
    "### Labels that poorly fit the softmax\n",
    "\n",
    "- Summed cross-entropy should be higher and its gradient should be steeper"
   ]
  },
  {
   "cell_type": "code",
   "execution_count": 29,
   "metadata": {
    "collapsed": true,
    "deletable": true,
    "editable": true
   },
   "outputs": [],
   "source": [
    "y = np.array([[1, 0, 0, 0],\n",
    "              [1, 0, 0, 0],\n",
    "              [1, 0, 0, 0]])"
   ]
  },
  {
   "cell_type": "code",
   "execution_count": 30,
   "metadata": {
    "collapsed": false,
    "deletable": true,
    "editable": true
   },
   "outputs": [
    {
     "data": {
      "text/plain": [
       "14.564061490301974"
      ]
     },
     "execution_count": 30,
     "metadata": {},
     "output_type": "execute_result"
    }
   ],
   "source": [
    "sum_cross_entropy(y, softmax(batch))"
   ]
  },
  {
   "cell_type": "code",
   "execution_count": 31,
   "metadata": {
    "collapsed": false,
    "deletable": true,
    "editable": true
   },
   "outputs": [
    {
     "data": {
      "text/plain": [
       "array([-402.11373712,    0.        ,    0.        ,    0.        ])"
      ]
     },
     "execution_count": 31,
     "metadata": {},
     "output_type": "execute_result"
    }
   ],
   "source": [
    "sum_cross_entropy(y, softmax(batch), deriv=True)"
   ]
  },
  {
   "cell_type": "markdown",
   "metadata": {
    "deletable": true,
    "editable": true
   },
   "source": [
    "### Labels that are so-so"
   ]
  },
  {
   "cell_type": "code",
   "execution_count": 32,
   "metadata": {
    "collapsed": true,
    "deletable": true,
    "editable": true
   },
   "outputs": [],
   "source": [
    "y = np.array([[1, 0, 0, 0],\n",
    "              [0, 0, 0, 1],\n",
    "              [0, 0, 1, 0]])"
   ]
  },
  {
   "cell_type": "code",
   "execution_count": 33,
   "metadata": {
    "collapsed": false,
    "deletable": true,
    "editable": true
   },
   "outputs": [
    {
     "data": {
      "text/plain": [
       "8.5640614903019738"
      ]
     },
     "execution_count": 33,
     "metadata": {},
     "output_type": "execute_result"
    }
   ],
   "source": [
    "sum_cross_entropy(y, softmax(batch))"
   ]
  },
  {
   "cell_type": "code",
   "execution_count": 34,
   "metadata": {
    "collapsed": false,
    "deletable": true,
    "editable": true
   },
   "outputs": [
    {
     "data": {
      "text/plain": [
       "array([-159.52049703,    0.        ,  -21.58875165,   -1.52153036])"
      ]
     },
     "execution_count": 34,
     "metadata": {},
     "output_type": "execute_result"
    }
   ],
   "source": [
    "sum_cross_entropy(y, softmax(batch), deriv=True)"
   ]
  },
  {
   "cell_type": "markdown",
   "metadata": {
    "deletable": true,
    "editable": true
   },
   "source": [
    "We see that the summed gradient is steepest for that class prediction which is the most incorrect."
   ]
  },
  {
   "cell_type": "code",
   "execution_count": 35,
   "metadata": {
    "collapsed": false,
    "deletable": true,
    "editable": true
   },
   "outputs": [
    {
     "data": {
      "text/plain": [
       "array([[ 0.00626879,  0.01704033,  0.04632042,  0.93037047],\n",
       "       [ 0.01203764,  0.08894682,  0.24178252,  0.65723302],\n",
       "       [ 0.00626879,  0.01704033,  0.04632042,  0.93037047]])"
      ]
     },
     "execution_count": 35,
     "metadata": {},
     "output_type": "execute_result"
    }
   ],
   "source": [
    "softmax(batch)"
   ]
  },
  {
   "cell_type": "markdown",
   "metadata": {
    "deletable": true,
    "editable": true
   },
   "source": [
    "We gave a very low softmax probability to digit 0 for each of our 3 examples. Yet, one of the true labels **was** in fact digit zero. That means we must take the most corrective action in the direction of digit zero. That's why our summed gradient is steepest in direction zero, as opposed to the other two directions for whom our predictions were closer to the true class label."
   ]
  },
  {
   "cell_type": "markdown",
   "metadata": {
    "deletable": true,
    "editable": true
   },
   "source": [
    "## Chain rule: gradient of cross-entropy times Jacobian of softmax\n",
    "\n",
    "---\n",
    "\n",
    "Let $x$ be a single example. That is, it's a vector input to the softmax layer. To get the gradient of cross-entropy cost (a scalar) with respect to $x$ (a vector input to the softmax layer), we can use the chain rule. Just multiply the gradient of cross-entropy and the Jacobian of softmax\n",
    "\n",
    "$$ \\left[\\frac{-y_0}{s(x)_0},\\ \\frac{-y_1}{s(x)_1},\\ \\dots,\\ \\frac{-y_9}{s(x)_9} \\right]\n",
    "\\begin{bmatrix}\n",
    "    s(x)_0 - s(x)_0^2 & -s(x)_0 s(x)_1 & \\dots  & -s(x)_0 s(x)_9 \\\\\n",
    "    -s(x)_1 s(x)_0 & s(x)_1 - s(x)_1^2 & \\dots  & -s(x)_1 s(x)_9 \\\\\n",
    "    \\vdots & \\vdots & \\ddots & \\vdots \\\\\n",
    "    -s(x)_9 s(x)_0 & -s(x)_9 s(x)_1 & \\dots  & s(x)_9 - s(x)_9^2\n",
    "\\end{bmatrix} $$\n",
    "\n",
    "When we do vector-matrix multiplication this way, we're just forming a linear combination of the rows of the Jacobian, where the weights are the entries of the gradient.\n",
    "\n",
    "\\begin{align*}\n",
    "&\\frac{-y_0}{s(x)_0} \\cdot \\left[ s(x)_0 - s(x)_0^2,\\ -s(x)_0 s(x)_1,\\ \\dots,\\  -s(x)_0 s(x)_9 \\right] \\\\ \\\\\n",
    "+ &\\frac{-y_1}{s(x)_1} \\cdot \\left[ -s(x)_1 s(x)_0,\\ s(x)_1 - s(x)_1^2,\\ \\dots,\\ -s(x)_1 s(x)_9 \\right] \\\\ \\\\\n",
    "&\\dots \\\\ \\\\\n",
    "+ &\\frac{-y_9}{s(x)_9} \\cdot \\left[ -s(x)_9 s(x)_0,\\ -s(x)_9 s(x)_1,\\ \\dots,\\  s(x)_9 - s(x)_9^2 \\right] \\\\ \\\\\n",
    "\\end{align*}\n",
    "\n",
    "if we cancel terms we get...\n",
    "\n",
    "\\begin{align*}\n",
    "&y_0 \\cdot \\left[ s(x)_0 - 1,\\ s(x)_1,\\ \\dots,\\  s(x)_9 \\right] \\\\ \\\\\n",
    "+ &y_1 \\cdot \\left[ s(x)_0,\\ s(x)_1 - 1,\\ \\dots,\\ s(x)_9 \\right] \\\\ \\\\\n",
    "&\\dots \\\\ \\\\\n",
    "+ &y_9 \\cdot \\left[ s(x)_0,\\ s(x)_1,\\ \\dots,\\  s(x)_9 - 1 \\right] \\\\ \\\\\n",
    "\\end{align*}\n",
    "\n",
    "if we reframe as a vector-matrix product again we get...\n",
    "\n",
    "$$ \\left[y_0,\\ y_1,\\ \\dots,\\ y_9 \\right]\n",
    "\\begin{bmatrix}\n",
    "    s(x)_0 - 1 & s(x)_1 & s(x)_2 & \\dots  & s(x)_9 \\\\\n",
    "    s(x)_0 & s(x)_1 - 1 & s(x)_2 & \\dots  & s(x)_9 \\\\\n",
    "    \\vdots & \\vdots & \\vdots & \\ddots & \\vdots \\\\\n",
    "    s(x)_0 & s(x)_1 & s(x)_2 & \\dots  & s(x)_9 - 1\n",
    "\\end{bmatrix} $$\n",
    "\n",
    "We can frame this as a vector-matrix product of the vector $y$ with the matrix whose rows are identically our softmax distribution, minus the identity matrix\n",
    "\n",
    "$$ \\left[y_0,\\ y_1,\\ \\dots,\\ y_9 \\right] \\left(\n",
    "\\begin{bmatrix}\n",
    "    s(x)_0 & s(x)_1 & s(x)_2 & \\dots  & s(x)_9 \\\\\n",
    "    s(x)_0 & s(x)_1 & s(x)_2 & \\dots  & s(x)_9 \\\\\n",
    "    \\vdots & \\vdots & \\vdots & \\ddots & \\vdots \\\\\n",
    "    s(x)_0 & s(x)_1 & s(x)_2 & \\dots  & s(x)_9\n",
    "\\end{bmatrix} \n",
    "-\n",
    "I_{9 \\times 9} \\right)\n",
    "$$\n",
    "\n",
    "but since $y$ is a one-hot vector, we just get the row corresponding to the correct class. **This is just the softmax vector $s(x)$ of our input vector $x$, with 1 subtracted from the correct class**. Furthermore, there's an easy way to subtract 1 from the correct class. Just subtract our one-hot vector $y$ (1 for the correct class, and 0 elsewhere), from our softmax vector $s(x)$.\n",
    "\n",
    "$$s(x) - y_{\\text{onehot}}$$\n",
    "\n",
    "So for each example in our minibatch, the error with respect to the input vector to the softmax layer is just\n",
    "\n",
    "$$s(x) - y_{\\text{onehot}}$$.\n",
    "\n",
    "For the entire minibatch, since softmax is row-wise, and cross-entropy is row-wise, our rows are independent, so we just sum the gradient of each row.\n",
    "\n",
    "That means, the error with respect to the input of the softmax layer is\n",
    "\n",
    "$$\\delta_{\\text{input}} = \\sum_{\\text{examples}} s(x)^{\\text{example}} - y_{\\text{onehot}}^{\\text{example}}.$$\n",
    "\n",
    "If we subtract our $y$ matrix whose rows are one-hot vectors, from our softmax matrix $s(x)$ whose rows are softmax vectors, and then sum the rows of the resulting matrix, we'll have achieved the above effect."
   ]
  },
  {
   "cell_type": "code",
   "execution_count": 45,
   "metadata": {
    "collapsed": false,
    "deletable": true,
    "editable": true
   },
   "outputs": [],
   "source": [
    "def softmax_cross_entropy(batch, onehot_labels, deriv=False):\n",
    "    \"\"\"\"Return sum cross-entropy cost or delta_input for final layer.\n",
    "    \n",
    "    :type y_matrix: ndarray\n",
    "    :param y_matrix: rows are one-hot vectors for correct label\n",
    "    \n",
    "    :type x_matrix: ndarray\n",
    "    :param x_matrix: rows will be softmaxed and cross-entropied with \n",
    "                     the rows of y_matrix.\n",
    "    \"\"\"\n",
    "    if deriv:\n",
    "        return (softmax(batch) - onehot_labels).sum(axis=0)\n",
    "    else:\n",
    "        return sum_cross_entropy(onehot_labels, softmax(batch))"
   ]
  },
  {
   "cell_type": "code",
   "execution_count": 46,
   "metadata": {
    "collapsed": false,
    "deletable": true,
    "editable": true
   },
   "outputs": [
    {
     "data": {
      "text/plain": [
       "array([[ 0.00626879,  0.01704033,  0.04632042,  0.93037047],\n",
       "       [ 0.01203764,  0.08894682,  0.24178252,  0.65723302],\n",
       "       [ 0.00626879,  0.01704033,  0.04632042,  0.93037047]])"
      ]
     },
     "execution_count": 46,
     "metadata": {},
     "output_type": "execute_result"
    }
   ],
   "source": [
    "softmax(batch)"
   ]
  },
  {
   "cell_type": "markdown",
   "metadata": {
    "deletable": true,
    "editable": true
   },
   "source": [
    "### Good labels"
   ]
  },
  {
   "cell_type": "code",
   "execution_count": 47,
   "metadata": {
    "collapsed": true,
    "deletable": true,
    "editable": true
   },
   "outputs": [],
   "source": [
    "y = np.array([[0, 0, 0, 1],\n",
    "              [0, 0, 0, 1],\n",
    "              [0, 0, 0, 1]])"
   ]
  },
  {
   "cell_type": "code",
   "execution_count": 48,
   "metadata": {
    "collapsed": false,
    "deletable": true,
    "editable": true
   },
   "outputs": [
    {
     "data": {
      "text/plain": [
       "53.490403605775839"
      ]
     },
     "execution_count": 48,
     "metadata": {},
     "output_type": "execute_result"
    }
   ],
   "source": [
    "softmax_cross_entropy(y, batch)"
   ]
  },
  {
   "cell_type": "code",
   "execution_count": 49,
   "metadata": {
    "collapsed": false,
    "deletable": true,
    "editable": true
   },
   "outputs": [
    {
     "data": {
      "text/plain": [
       "array([ -3.47536689,  -7.47536689, -10.47536689, -16.57389934])"
      ]
     },
     "execution_count": 49,
     "metadata": {},
     "output_type": "execute_result"
    }
   ],
   "source": [
    "softmax_cross_entropy(y, batch, deriv=True)"
   ]
  },
  {
   "cell_type": "markdown",
   "metadata": {
    "deletable": true,
    "editable": true
   },
   "source": [
    "These tell us how the cross-entropy cost changes if we increase the weighted input to each of our four output nodes. We see that the cost declines if we have more weighted input to the fourth node, because that node contains all of our true class labels."
   ]
  },
  {
   "cell_type": "markdown",
   "metadata": {
    "deletable": true,
    "editable": true
   },
   "source": [
    "### Bad labels"
   ]
  },
  {
   "cell_type": "code",
   "execution_count": 50,
   "metadata": {
    "collapsed": true,
    "deletable": true,
    "editable": true
   },
   "outputs": [],
   "source": [
    "y = np.array([[1, 0, 0, 0],\n",
    "              [1, 0, 0, 0],\n",
    "              [1, 0, 0, 0]])"
   ]
  },
  {
   "cell_type": "code",
   "execution_count": 51,
   "metadata": {
    "collapsed": false,
    "deletable": true,
    "editable": true
   },
   "outputs": [
    {
     "data": {
      "text/plain": [
       "67.490403605775839"
      ]
     },
     "execution_count": 51,
     "metadata": {},
     "output_type": "execute_result"
    }
   ],
   "source": [
    "softmax_cross_entropy(y, batch)"
   ]
  },
  {
   "cell_type": "markdown",
   "metadata": {
    "deletable": true,
    "editable": true
   },
   "source": [
    "Here, since our true labels are all digit 0, we have a negative cost from increasing the weighted input to node zero of the final layer. Also notice that the expected cost decrease is much larger. That's because our softmax values are quite small for output zero in each of our examples. This shows that very wrong softmax predictions lead to very strong corrective gradients when using cross-entropy."
   ]
  },
  {
   "cell_type": "code",
   "execution_count": 52,
   "metadata": {
    "collapsed": false,
    "deletable": true,
    "editable": true
   },
   "outputs": [
    {
     "data": {
      "text/plain": [
       "array([ -2.57389934,  -7.47536689, -10.47536689, -17.47536689])"
      ]
     },
     "execution_count": 52,
     "metadata": {},
     "output_type": "execute_result"
    }
   ],
   "source": [
    "softmax_cross_entropy(y, batch, deriv=True)"
   ]
  },
  {
   "cell_type": "code",
   "execution_count": 53,
   "metadata": {
    "collapsed": false,
    "deletable": true,
    "editable": true
   },
   "outputs": [
    {
     "data": {
      "text/plain": [
       "array([[ 0.00626879,  0.01704033,  0.04632042,  0.93037047],\n",
       "       [ 0.01203764,  0.08894682,  0.24178252,  0.65723302],\n",
       "       [ 0.00626879,  0.01704033,  0.04632042,  0.93037047]])"
      ]
     },
     "execution_count": 53,
     "metadata": {},
     "output_type": "execute_result"
    }
   ],
   "source": [
    "softmax(batch)"
   ]
  },
  {
   "cell_type": "markdown",
   "metadata": {
    "deletable": true,
    "editable": true
   },
   "source": [
    "### Mixed labels"
   ]
  },
  {
   "cell_type": "code",
   "execution_count": 54,
   "metadata": {
    "collapsed": true,
    "deletable": true,
    "editable": true
   },
   "outputs": [],
   "source": [
    "y = np.array([[1, 0, 0, 0],\n",
    "              [0, 0, 0, 1],\n",
    "              [0, 0, 1, 0]])"
   ]
  },
  {
   "cell_type": "code",
   "execution_count": 55,
   "metadata": {
    "collapsed": false,
    "deletable": true,
    "editable": true
   },
   "outputs": [
    {
     "data": {
      "text/plain": [
       "61.490403605775839"
      ]
     },
     "execution_count": 55,
     "metadata": {},
     "output_type": "execute_result"
    }
   ],
   "source": [
    "softmax_cross_entropy(y, batch)"
   ]
  },
  {
   "cell_type": "code",
   "execution_count": 56,
   "metadata": {
    "collapsed": false,
    "deletable": true,
    "editable": true
   },
   "outputs": [
    {
     "data": {
      "text/plain": [
       "array([ -3.1748777 ,  -7.47536689, -10.1748777 , -17.1748777 ])"
      ]
     },
     "execution_count": 56,
     "metadata": {},
     "output_type": "execute_result"
    }
   ],
   "source": [
    "softmax_cross_entropy(y, batch, deriv=True)"
   ]
  },
  {
   "cell_type": "markdown",
   "metadata": {
    "deletable": true,
    "editable": true
   },
   "source": [
    "For the mixed labels, we can decrease cost through two channels, by increasing the weighted input to node zero, or increasing the weighted input to node 2."
   ]
  },
  {
   "cell_type": "markdown",
   "metadata": {
    "deletable": true,
    "editable": true
   },
   "source": [
    "### Architecture"
   ]
  },
  {
   "cell_type": "code",
   "execution_count": 57,
   "metadata": {
    "collapsed": false,
    "deletable": true,
    "editable": true
   },
   "outputs": [],
   "source": [
    "layers = [\n",
    "  # (size, nonlin, keep_prob),\n",
    "    (784, linear, 0.8),  # input\n",
    "    (500, relu, 0.5),\n",
    "    (500, relu, 0.5),\n",
    "    (10, softmax_cross_entropy, 1.0),  # output\n",
    "]"
   ]
  },
  {
   "cell_type": "markdown",
   "metadata": {
    "deletable": true,
    "editable": true
   },
   "source": [
    "### MLP Class"
   ]
  },
  {
   "cell_type": "code",
   "execution_count": 58,
   "metadata": {
    "collapsed": false,
    "deletable": true,
    "editable": true
   },
   "outputs": [],
   "source": [
    "class MLP:\n",
    "    \"\"\"Store a list of Layer() instances.\"\"\"\n",
    "\n",
    "    def __init__(self, layers):\n",
    "        \"\"\"Initialize list of Layer() instances.\"\"\"\n",
    "        self._layers = [\n",
    "            Layer(prev_layer[0], *layer)\n",
    "            for prev_layer, layer in zip(layers[:-1], layers[1:])\n",
    "        ]\n",
    "\n",
    "    def __repr__(self):\n",
    "        \"\"\"Return a string of layers of the network.\"\"\"\n",
    "        return '\\n'.join(str(layer) for layer in self)\n",
    "\n",
    "    def __len__(self):\n",
    "        \"\"\"Return number of layers.\"\"\"\n",
    "        return len(self._layers)\n",
    "\n",
    "    def __getitem__(self, index):\n",
    "        \"\"\"Return Layer() at index.\"\"\"\n",
    "        return self._layers[index]\n",
    "\n",
    "    def forward(self, batch, labels):\n",
    "        \"\"\"Return cost of minibatch.\n",
    "        \n",
    "        :type batch: ndarray\n",
    "        :param batch: minibatch whose rows are examples\n",
    "        \n",
    "        :type labels: ndarray\n",
    "        :param labels: each row a one-hot label for an example\n",
    "        \"\"\"\n",
    "        for layer in self:\n",
    "            batch = layer.forward(batch, labels)\n",
    "        return batch\n",
    "\n",
    "    def backward(self, batch, labels):\n",
    "        \"\"\"Forward pass followed by weight update.\"\"\"\n",
    "        # Forward\n",
    "        for layer in self[:-1]:\n",
    "            batch = layer.forward(batch, labels)\n",
    "        batch = softmax(batch)\n",
    "        \n",
    "        \n",
    "        # Backward\n",
    "        delta = self[-1].nonlin(batch, labels, deriv=True)\n",
    "        return delta\n",
    "        for layer in self[::-1]:\n",
    "            layer.backward()\n",
    "\n",
    "    def train(self, n_epochs):\n",
    "        \"\"\"Repeat backward method to train the network.\"\"\"\n",
    "        # delta_output = None\n",
    "        for _ in range(n_epochs):\n",
    "            self.backward()"
   ]
  },
  {
   "cell_type": "markdown",
   "metadata": {
    "deletable": true,
    "editable": true
   },
   "source": [
    "### Layer class"
   ]
  },
  {
   "cell_type": "code",
   "execution_count": 59,
   "metadata": {
    "collapsed": false,
    "deletable": true,
    "editable": true,
    "scrolled": true
   },
   "outputs": [],
   "source": [
    "class Layer:\n",
    "    \"\"\"Store and update incoming weights to a layer.\"\"\"\n",
    "\n",
    "    def __init__(self, n_in, size, nonlin, keep_prob):\n",
    "        \"\"\"Initialize weight and Jacobian matrices.\n",
    "\n",
    "        :type n_in: int\n",
    "        :param n_in: size of previous layer\n",
    "\n",
    "        :type size: int\n",
    "        :param size: size of this layer\n",
    "\n",
    "        :type nonlin: function\n",
    "        :param nonlin: nonlinearity for this layer\n",
    "\n",
    "        :type keep_prob: float\n",
    "        :param keep_prob: keep probability for dropout\n",
    "        \"\"\"\n",
    "        # Store parameters\n",
    "        self.n_in = n_in\n",
    "        self.size = size\n",
    "        self.nonlin = nonlin\n",
    "        self.keep_prob = keep_prob\n",
    "\n",
    "        # Initialize weights and Jacobian of weights\n",
    "        self.weights = np.random.rand(n_in, size) * np.sqrt(2.0 / n_in)\n",
    "        self.jacobian = np.zeros(self.weights.shape)\n",
    "\n",
    "    def __repr__(self):\n",
    "        \"\"\"Return string representation of layer.\"\"\"\n",
    "        return 'Layer(%d, %s, %.1f)' \\\n",
    "               % (self.size, self.nonlin.__name__, self.keep_prob)\n",
    "\n",
    "    def forward(self, x, labels):\n",
    "        \"\"\"Return layer activation, computed from previous layer activation.\"\"\"\n",
    "        self.z = x.dot(self.weights)  # weighted input\n",
    "        self.a = self.nonlin(self.z, labels)  # activation\n",
    "        return self.a\n",
    "\n",
    "    def backward(self, delta_next, w_next, learning_rate=0.1):\n",
    "        \"\"\"Get delta for weighted input to layer given delta for next layer.\n",
    "\n",
    "        :type delta_next: ndarray\n",
    "        :param delta_netx: derivative of cost w.r.t. input to next layer\n",
    "\n",
    "        :type W_next: ndarray\n",
    "        :param W_next: weight matrix for next layer (needed for bringing delta back)\n",
    "        \"\"\"\n",
    "        self.delta = w_next.T.dot(delta_next) * self.nonlin(self.Z, deriv=True)\n",
    "        self.dJdW = self.x.dot(self.delta)\n",
    "        self.w -= learning_rate * self.dJdW"
   ]
  },
  {
   "cell_type": "code",
   "execution_count": 60,
   "metadata": {
    "collapsed": false,
    "deletable": true,
    "editable": true
   },
   "outputs": [],
   "source": [
    "mlp = MLP(layers)"
   ]
  }
 ],
 "metadata": {
  "kernelspec": {
   "display_name": "Python 3",
   "language": "python",
   "name": "python3"
  },
  "language_info": {
   "codemirror_mode": {
    "name": "ipython",
    "version": 3
   },
   "file_extension": ".py",
   "mimetype": "text/x-python",
   "name": "python",
   "nbconvert_exporter": "python",
   "pygments_lexer": "ipython3",
   "version": "3.5.2"
  }
 },
 "nbformat": 4,
 "nbformat_minor": 2
}
