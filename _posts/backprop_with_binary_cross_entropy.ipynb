{
 "cells": [
  {
   "cell_type": "markdown",
   "metadata": {},
   "source": [
    "# Backprop with Binary Cross-Entropy"
   ]
  },
  {
   "cell_type": "markdown",
   "metadata": {},
   "source": [
    "Consider a network with three layers.\n",
    "\n",
    "---\n",
    "\n",
    "![Neural Network](http://www.texample.net/media/tikz/examples/PNG/neural-network.png)\n",
    "\n",
    "---\n",
    "\n",
    "This network will predict rain. The red node will output $0$ for sunny, and $1$ for rainy. Each green node represents one input feature. Since there are four green nodes, we'll have four input features. The four input features we use are\n",
    "\n",
    "- Temperature\n",
    "- Humidity\n",
    "- Cloud cover\n",
    "- Wind speed\n",
    "\n",
    "These input features are defined by our dataset. Typically our data are stored in a table, where\n",
    "\n",
    "- Each row is an observation\n",
    "- Each column is a feature"
   ]
  },
  {
   "cell_type": "markdown",
   "metadata": {},
   "source": [
    "### Feedforward\n",
    "\n",
    "---\n",
    "\n",
    "__Input layer:__\n",
    "\n",
    "First, we input four feature values into the green nodes.\n",
    "\n",
    "- Temperature = 22 Celsius\n",
    "- Humidity = 80 percent\n",
    "- Cloud cover = 70 percent\n",
    "- Wind speed = 10 km/h\n",
    "\n",
    "This represents one observation (one row) of our data matrix. Each value is that of a feature (a column) of our data matrix.\n",
    "\n",
    "__Note (normalize the data):__ We won't feed in these exact values. Always scale the feature values to be centered at zero with unit variance. This is called normalizing.\n",
    "\n",
    "__Example (normalize the data):__ We normalize the temperature column by first subtracting the mean temperature from every temperature, and then dividing each temperature by the sample standard deviation of temperature. We can write this as\n",
    "\n",
    "$$\\text{Temperature}_{\\text{normalized}} = \\frac{t - \\mu_t}{\\sigma_t}$$\n",
    "\n",
    "Here, temperature is a column vector (a feature column of our data matrix), and\n",
    "\n",
    "- $t \\ \\ $ = column vector of temperature values (our data)\n",
    "- $\\mu_t$ = column vector where every element is the same, the average temperature\n",
    "- $\\sigma_t$ = sample standard deviation of temperature\n",
    "\n",
    "__Hidden Layer:__\n",
    "\n",
    "To compute the values of the blue nodes we do a row-vector times matrix multiplication. The row vector holds our four normalized feature values (temperature, humidity, cloud cover, and wind speed). The matrix holds the weights connecting the input layer to the hidden layer. The weight matrix will have\n",
    "\n",
    "- $4$ rows (one for each input feature)\n",
    "- $5$ columns (one for each hidden feature)\n",
    "\n",
    "Multiplying a $1 \\times 4$ row vector with a $4 \\times 5$ weight matrix yields a $1 \\times 5$ hidden vector. We see that our four normalized input features (temperature, humidity, cloud cover, and wind speed) have been converted into five hidden features.\n",
    "\n",
    "__Note:__ We don't actually know what these five hidden features represent. _The entire goal of training a neural network is to __learn__ what features the hidden nodes should represent._ Neural networks should be thought of as automatic feature generators. Before neural networks, experts would spend years studying the nuances of datasets and trying to manually engineer features that would allow simple classifiers to perform well. Later, we'll see that the output layer of a neural network is in fact just a simple classifier, but the key is that _it's applied to learned features._"
   ]
  },
  {
   "cell_type": "code",
   "execution_count": null,
   "metadata": {
    "collapsed": true
   },
   "outputs": [],
   "source": []
  }
 ],
 "metadata": {
  "kernelspec": {
   "display_name": "Python 3",
   "language": "python",
   "name": "python3"
  },
  "language_info": {
   "codemirror_mode": {
    "name": "ipython",
    "version": 3
   },
   "file_extension": ".py",
   "mimetype": "text/x-python",
   "name": "python",
   "nbconvert_exporter": "python",
   "pygments_lexer": "ipython3",
   "version": "3.6.0"
  }
 },
 "nbformat": 4,
 "nbformat_minor": 2
}
